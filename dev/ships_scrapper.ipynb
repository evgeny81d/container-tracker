{
 "cells": [
  {
   "cell_type": "markdown",
   "id": "a6e33148",
   "metadata": {},
   "source": [
    "# Ships scrapper for marinetraffic.com\n",
    "\n",
    "### 1. Imports"
   ]
  },
  {
   "cell_type": "code",
   "execution_count": 2,
   "id": "473cefc9",
   "metadata": {},
   "outputs": [],
   "source": [
    "import requests\n",
    "import json\n",
    "from datetime import datetime\n",
    "from pymongo import MongoClient\n",
    "from pymongo.errors import ConnectionFailure\n",
    "from bson.json_util import dumps\n",
    "import access\n",
    "from bs4 import BeautifulSoup\n",
    "\n",
    "# External data resource\n",
    "URL = \"https://www.marinetraffic.com/en/ais/details/ships/shipid:\""
   ]
  },
  {
   "cell_type": "markdown",
   "id": "c2e942a7",
   "metadata": {},
   "source": [
    "### Log function"
   ]
  },
  {
   "cell_type": "code",
   "execution_count": 3,
   "id": "e273b698",
   "metadata": {},
   "outputs": [],
   "source": [
    "def log(message):\n",
    "    \"\"\"Log function to log errors.\"\"\"\n",
    "    timestamp = datetime.strftime(datetime.now(), \"%Y-%m-%d %H:%M:%S\")\n",
    "    with open(\"etl.log\", \"a\") as f:\n",
    "        f.write(timestamp + \" \" + message + \"\\n\")"
   ]
  },
  {
   "cell_type": "markdown",
   "id": "a756c047",
   "metadata": {},
   "source": [
    "### 2. Request web page"
   ]
  },
  {
   "cell_type": "code",
   "execution_count": 48,
   "id": "35ab4a43",
   "metadata": {},
   "outputs": [],
   "source": [
    "def request_web_page(ship_id):\n",
    "    \"\"\"Request web page for ship_id.\"\"\"\n",
    "    response = requests.get(\n",
    "        URL + str(ship_id),\n",
    "        headers={\"User-Agent\": \"Mozilla/5.0\"}\n",
    "    )\n",
    "    return response"
   ]
  },
  {
   "cell_type": "code",
   "execution_count": 49,
   "id": "a6ccc3d7",
   "metadata": {
    "scrolled": true
   },
   "outputs": [
    {
     "data": {
      "text/plain": [
       "<Response [404]>"
      ]
     },
     "execution_count": 49,
     "metadata": {},
     "output_type": "execute_result"
    }
   ],
   "source": [
    "ship_id = 1\n",
    "response = request_web_page(ship_id)\n",
    "response"
   ]
  },
  {
   "cell_type": "markdown",
   "id": "98541987",
   "metadata": {},
   "source": [
    "### 3. Parse web page title"
   ]
  },
  {
   "cell_type": "code",
   "execution_count": 50,
   "id": "c5f71609",
   "metadata": {},
   "outputs": [],
   "source": [
    "def get_page_title(response, ship_id):\n",
    "    \"\"\"Parse title string from html response.\"\"\"\n",
    "    if response.status_code == 200:\n",
    "        soup = BeautifulSoup(response.text, \"html.parser\")\n",
    "        return soup.title.text\n",
    "    else:\n",
    "        log(\"[ships_web_scrapper.py] [get_page_title()] \" \\\n",
    "                + f\"[{response.status_code} for ship id {ship_id}]\")\n",
    "        return False"
   ]
  },
  {
   "cell_type": "code",
   "execution_count": 52,
   "id": "fde208ce",
   "metadata": {},
   "outputs": [
    {
     "data": {
      "text/plain": [
       "False"
      ]
     },
     "execution_count": 52,
     "metadata": {},
     "output_type": "execute_result"
    }
   ],
   "source": [
    "title = get_page_title(response, ship_id)\n",
    "title"
   ]
  },
  {
   "cell_type": "markdown",
   "id": "fbe6112d",
   "metadata": {},
   "source": [
    "### 4. Parse ship details"
   ]
  },
  {
   "cell_type": "code",
   "execution_count": 54,
   "id": "f9cc2725",
   "metadata": {},
   "outputs": [],
   "source": [
    "def scrap_ship_details(title, ship_id):\n",
    "    \"\"\"Scrap ship details from web page title.\"\"\"\n",
    "    if not title:\n",
    "        return False\n",
    "    name_str = title[title.find(\"Ship\") + 5:title.find(\"Registered in\")].strip()\n",
    "    name = name_str.split(\"(\")[0].strip()\n",
    "    ship_type = name_str.split(\"(\")[1].replace(\")\", \"\")\n",
    "    flag = title[title.find(\"Registered in\") + 13:title.find(\"-\")].strip()\n",
    "    imo = title[title.find(\"IMO \") + 3: title.find(\"MMSI \") - 2].strip()\n",
    "    if len(imo) == 7 and imo.isdigit():\n",
    "        imo = int(imo)\n",
    "    else:\n",
    "        log(\"[ships_web_scrapper.py] [scrap_ship_details()] \" \\\n",
    "                + f\"[Incorrect imo {imo} for ship id {ship_id}]\")\n",
    "        imo = 0\n",
    "    mmsi = title[title.find(\"MMSI \") + 4: title.find(\"MMSI \") + 14].strip()\n",
    "    if len(mmsi) == 9 and mmsi.isdigit():\n",
    "        mmsi = int(mmsi)\n",
    "    else:\n",
    "        log(\"[ships_web_scrapper.py] [scrap_ship_details()] \" \\\n",
    "                + f\"[Incorrect mmsi {mmsi} for ship id {ship_id}]\")\n",
    "        mmsi = 0\n",
    "    call_sign = title[title.find(\"Call Sign\") + 9:].strip()\n",
    "    result = {\n",
    "        \"ship_id\": ship_id, \"name\": name, \"type\": ship_type, \"flag\": flag,\n",
    "        \"imo\": imo, \"mmsi\": mmsi, \"callSign\": call_sign\n",
    "    }\n",
    "    return result"
   ]
  },
  {
   "cell_type": "code",
   "execution_count": 55,
   "id": "bbeacaa0",
   "metadata": {},
   "outputs": [
    {
     "data": {
      "text/plain": [
       "False"
      ]
     },
     "execution_count": 55,
     "metadata": {},
     "output_type": "execute_result"
    }
   ],
   "source": [
    "scrap_ship_details(title, ship_id)"
   ]
  },
  {
   "cell_type": "markdown",
   "id": "d1381961",
   "metadata": {},
   "source": [
    "### 5. Insert ships data to db"
   ]
  },
  {
   "cell_type": "code",
   "execution_count": 43,
   "id": "ff4235c8",
   "metadata": {},
   "outputs": [],
   "source": [
    "def insert_ship_to_db(ship):\n",
    "    \"\"\"Insert ship record to db.\"\"\"\n",
    "    if not ship:\n",
    "        return\n",
    "    # Connect to database and update data\n",
    "    conn = MongoClient(access.update)\n",
    "    try:\n",
    "        conn.admin.command(\"ping\")\n",
    "        now = datetime.now().replace(microsecond=0)\n",
    "        ship[\"update\"] = now\n",
    "        cur = conn.one.ships.insert_one(ship)\n",
    "        if cur.acknowledged == False:\n",
    "            log(\"[Ships_web_scrapper.py] [insert_ship_to_db()] \"\\\n",
    "                + f\"[Ship id {ship['ship_id']} imo {ship['imo']} not inserted]\")\n",
    "        conn.close()\n",
    "    except ConnectionFailure:\n",
    "        log(\"[ships_web_scrapper.py] [insert_ship_to_db()] \"\\\n",
    "            + f\"[DB Connection failure for ship id {ship['ship_id']} imo {ship['imo']}]\")\n",
    "        conn.close()\n",
    "    except BaseException as err:\n",
    "        log(\"[ships_web_scrapper.py] [insert_ship_to_db()] \"\\\n",
    "            + f\"[{err} for ship id {ship['ship_id']} imo {ship['imo']}]\")\n",
    "        conn.close()"
   ]
  },
  {
   "cell_type": "code",
   "execution_count": 44,
   "id": "247c9a1a",
   "metadata": {},
   "outputs": [],
   "source": [
    "insert_ship_to_db(False)"
   ]
  },
  {
   "cell_type": "markdown",
   "id": "9f35986a",
   "metadata": {},
   "source": [
    "### 7. Pipeline"
   ]
  },
  {
   "cell_type": "code",
   "execution_count": 47,
   "id": "0cf001cc",
   "metadata": {},
   "outputs": [
    {
     "name": "stdout",
     "output_type": "stream",
     "text": [
      "0\n",
      "1\n",
      "2\n",
      "3\n",
      "4\n",
      "5\n",
      "6\n",
      "7\n",
      "8\n",
      "9\n"
     ]
    }
   ],
   "source": [
    "for ship_id in range(10):\n",
    "    response = request_web_page(ship_id)\n",
    "    title = get_page_title(response, ship_id)\n",
    "    ship = scrap_ship_details(title, ship_id)\n",
    "    insert_ship_to_db(ship)\n",
    "    \n",
    "    "
   ]
  },
  {
   "cell_type": "code",
   "execution_count": 58,
   "id": "0440cdd3",
   "metadata": {},
   "outputs": [],
   "source": [
    "#-8214061\n",
    "url = \"https://www.marinetraffic.com/ru/ais/details/ships/shipid:9237/mmsi:0/imo:8214061/vessel:FRIENDLY_ZHEJIANG\"\n",
    "response = requests.get(\n",
    "        url,\n",
    "        headers={\"User-Agent\": \"Mozilla/5.0\"}\n",
    "    )\n"
   ]
  },
  {
   "cell_type": "code",
   "execution_count": 59,
   "id": "95db7958",
   "metadata": {},
   "outputs": [
    {
     "data": {
      "text/plain": [
       "'\\n<!DOCTYPE html>\\n<html lang=ru>\\n<head>\\n    <title>Детали судна: FRIENDLY ZHEJIANG (Bulk Carrier) - IMO 8214061, MMSI -8214061, Позывной HPNT Зарегистрировано в Panama </title>\\n    <meta name=\"google-site-verification\" content=\"aA4cdkT5SSWS_uycfNXSZ7UHHvJvnSTsEqJza8Wtfsc\" />\\n    <meta http-equiv=\"X-UA-Compatible\" content=\"IE=Edge,chrome=1\">\\n    <meta http-equiv=\"Content-Type\" content=\"text/html; charset=utf-8\"/>\\n    <meta name=\"apple-itunes-app\" content=\"app-id=563910324\">\\n    <meta name=\"google-play-app\" content=\"app-id=com.marinetraffic.android\">\\n    <meta name=\"viewport\" content=\"width=device-width, initial-scale=1.0\">\\n    <meta name=\"description\" content=\"Подробности о судне: FRIENDLY ZHEJIANG. Узнайте основную информацию о судне, включая номера IMO, MMSI и позывной. Тип: Bulk Carrier судно зарегистрировано в Panama. Узнайте дедвейт, валовую вместимость и год постройки. Подробности о FRIENDLY ZHEJIANG включают текущее местоположение судна, информацию о рейсе и фотографии. FRIENDLY ZHEJIANG Параметры IMO 8214061, MMSI -8214061, Позывной HPNT\" data-rdm=\"\">\\n    <meta name=\"keywords\" content=\"Характеристики судна FRIENDLY ZHEJIANG, FRIENDLY ZHEJIANG, тип судна Bulk Carrier, Cargo, IMO 8214061, MMSI -8214061, Позывной HPNT, Panama флаг, позиция АИС, тип судна, характеристики, местоположение судна, пунк\\x00т назначения, расчетное время прибытия, \"/>\\n    <meta name=\"theme-color\" content=\"#2B3D7C\"/>\\n    <meta name=\"apple-mobile-web-app-title\" content=\"MarineTraffic\"/>\\n    <meta name=\"application-name\" content=\"MarineTraffic\"/>\\n    <meta name=\"apple-mobile-web-app-capable\" content=\"yes\"/>\\n    <meta name=\"apple-mobile-web-app-status-bar-style\" content=\"black\"/>\\n    <meta property=\"og:title\" content=\"Детали судна: FRIENDLY ZHEJIANG (Bulk Carrier) - IMO 8214061, MMSI -8214061, Позывной HPNT Зарегистрировано в Panama \"/>\\n\\t<meta property=\"og:description\" content=\"Подробности о судне: FRIENDLY ZHEJIANG. Узнайте основную информацию о судне, включая номера IMO, MMSI и позывной. Тип: Bulk Carrier судно зарегистрировано в Panama. Узнайте дедвейт, валовую вместимость и год постройки. Подробности о FRIENDLY ZHEJIANG включают текущее местоположение судна, информацию о рейсе и фотографии. FRIENDLY ZHEJIANG Параметры IMO 8214061, MMSI -8214061, Позывной HPNT\" />\\n\\t    </head>\\n<body >\\n<main role=\"main\" style=\"height: 100%;\">\\n    <div id=\"app\" style=\"height: 100%;\">\\n        <div style=\"height:1000px; width:100%; clear:both;\"></div>\\n    </div>\\n</main>\\n<script defer src=\"https://static.cloudflareinsights.com/beacon.min.js/v652eace1692a40cfa3763df669d7439c1639079717194\" integrity=\"sha512-Gi7xpJR8tSkrpF7aordPZQlW2DLtzUlZcumS8dMQjwDHEnw9I7ZLyiOj/6tZStRBGtGgN6ceN6cMH8z7etPGlw==\" data-cf-beacon=\\'{\"rayId\":\"6bea41ef5ff784f8\",\"token\":\"4041645118394dfe82ed1a62f21ff397\",\"version\":\"2021.12.0\",\"si\":100}\\' crossorigin=\"anonymous\"></script>\\n</body>\\n<script type=\"text/javascript\" src=\"/js/66.mtapp.417.585e59.js\" async></script><script type=\"text/javascript\" src=\"/js/65.mtapp.417.585e59.js\" async></script><script type=\"text/javascript\" src=\"/js/72.mtapp.417.585e59.js\" async></script><script type=\"text/javascript\" src=\"/js/67.mtapp.417.585e59.js\" async></script><script type=\"text/javascript\" src=\"/js/68.mtapp.417.585e59.js\" async></script><script type=\"text/javascript\" src=\"/js/73.mtapp.417.585e59.js\" async></script><script type=\"text/javascript\" src=\"/js/70.mtapp.417.585e59.js\" async></script><script type=\"text/javascript\" src=\"/js/71.mtapp.417.585e59.js\" async></script><script type=\"text/javascript\" src=\"/js/75.mtapp.417.585e59.js\" async></script><script type=\"text/javascript\" src=\"/js/69.mtapp.417.585e59.js\" async></script><script type=\"text/javascript\" src=\"/js/74.mtapp.417.585e59.js\" async></script><script type=\"text/javascript\" src=\"/js/61.mtapp.417.585e59.js\" async></script><script type=\"text/javascript\" src=\"/js/63.mtapp.417.585e59.js\" async></script><script type=\"text/javascript\" src=\"/js/62.mtapp.417.585e59.js\" async></script><script type=\"text/javascript\" src=\"/js/mtapp.417.585e59.js\" async></script></html>\\n'"
      ]
     },
     "execution_count": 59,
     "metadata": {},
     "output_type": "execute_result"
    }
   ],
   "source": [
    "response.text"
   ]
  }
 ],
 "metadata": {
  "kernelspec": {
   "display_name": "Python 3",
   "language": "python",
   "name": "python3"
  },
  "language_info": {
   "codemirror_mode": {
    "name": "ipython",
    "version": 3
   },
   "file_extension": ".py",
   "mimetype": "text/x-python",
   "name": "python",
   "nbconvert_exporter": "python",
   "pygments_lexer": "ipython3",
   "version": "3.8.10"
  }
 },
 "nbformat": 4,
 "nbformat_minor": 5
}
