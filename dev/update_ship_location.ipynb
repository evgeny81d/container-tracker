{
 "cells": [
  {
   "cell_type": "markdown",
   "id": "25a19aa0",
   "metadata": {},
   "source": [
    "# Update ship location\n",
    "## Imports"
   ]
  },
  {
   "cell_type": "code",
   "execution_count": 46,
   "id": "0b378ce7",
   "metadata": {},
   "outputs": [],
   "source": [
    "import requests\n",
    "import json\n",
    "from datetime import datetime\n",
    "from pymongo import MongoClient\n",
    "from pymongo.errors import ConnectionFailure\n",
    "from bson.json_util import dumps\n",
    "from bs4 import BeautifulSoup\n",
    "import access"
   ]
  },
  {
   "cell_type": "markdown",
   "id": "69cb0140",
   "metadata": {},
   "source": [
    "## Functions\n",
    "### 1.Log"
   ]
  },
  {
   "cell_type": "code",
   "execution_count": 81,
   "id": "23bd8d58",
   "metadata": {},
   "outputs": [],
   "source": [
    "def log(message):\n",
    "    \"\"\"Log function to log errors.\"\"\"\n",
    "    timestamp = datetime.strftime(datetime.now(), \"%Y-%m-%d %H:%M:%S\")\n",
    "    with open(\"etl.log\", \"a\") as f:\n",
    "        f.write(timestamp + \" \" + message + \"\\n\")"
   ]
  },
  {
   "cell_type": "markdown",
   "id": "5c9a7684",
   "metadata": {},
   "source": [
    "### 2.Get records which require ship location update"
   ]
  },
  {
   "cell_type": "code",
   "execution_count": 82,
   "id": "a3d6a0ed",
   "metadata": {},
   "outputs": [],
   "source": [
    "def ships_to_update():\n",
    "    \"\"\"Find containers which require ship poistion update.\"\"\"\n",
    "    # Prepare connection, query and project fields\n",
    "    conn = MongoClient(access.update)\n",
    "    now = datetime.now().replace(microsecond=0)\n",
    "    pipeline = [\n",
    "    {\"$match\": {\"trackEnd\": None}},\n",
    "    {\"$unwind\": \"$schedule\"},\n",
    "    {\"$match\": {\n",
    "        \"schedule.status\": \"A\",\n",
    "        \"schedule.eventDate\": {\"$lte\": now},\n",
    "        \"schedule.imo\": {\"$ne\": \"\"}}\n",
    "    },\n",
    "    # Group by cntrNo, add maxNo and push all items into array\n",
    "    {\"$group\": {\n",
    "        \"_id\": \"$cntrNo\",\n",
    "        \"maxNo\": {\"$max\": \"$schedule.no\"},\n",
    "        \"items\": {\"$push\": {\n",
    "            \"vesselName\": \"$schedule.vesselName\",\n",
    "            \"imo\": \"$schedule.imo\",\n",
    "            \"no\": \"$schedule.no\"}}}\n",
    "    },\n",
    "    # Filter items to keep only one with item.no=maxNo\n",
    "    {\"$project\": {\n",
    "        \"details\": {\n",
    "            \"$filter\": {\n",
    "                \"input\": \"$items\",\n",
    "                \"as\": \"item\",\n",
    "                \"cond\": {\"$eq\": [\"$$item.no\", {\"$getField\": \"maxNo\"}]}}}}\n",
    "    },\n",
    "    # Extract item from array\n",
    "    {\"$project\": {\n",
    "        \"details\": {\"$arrayElemAt\": [\"$details\", 0]}}\n",
    "    },\n",
    "    # Project final output\n",
    "    {\"$project\": {\n",
    "        \"cntrNo\": \"$_id\",\n",
    "        \"vesselName\": \"$details.vesselName\",\n",
    "        \"imo\": \"$details.imo\",\n",
    "        \"_id\": 0}\n",
    "    }]\n",
    "    # Query database\n",
    "    try:\n",
    "        conn.admin.command(\"ping\")\n",
    "        cur = conn.one.tracking.aggregate(pipeline)\n",
    "        records = json.loads(dumps(cur))\n",
    "        conn.close()\n",
    "        if len(records) > 0:\n",
    "            return records\n",
    "        else:\n",
    "            return False\n",
    "    except ConnectionFailure:\n",
    "        log(\"[Update ship location] [Ships to update] \"\\\n",
    "            + f\"[DB Connection failure]\")\n",
    "        conn.close()\n",
    "        return False\n",
    "    except BaseException as err:\n",
    "        log(\"[Update ship location] [Ships to update] \"\\\n",
    "            + f\"[{err.details}]\")\n",
    "        conn.close()\n",
    "        return False"
   ]
  },
  {
   "cell_type": "code",
   "execution_count": 4,
   "id": "7f78bc5d",
   "metadata": {},
   "outputs": [],
   "source": [
    "ships = ships_to_update()"
   ]
  },
  {
   "cell_type": "code",
   "execution_count": 306,
   "id": "c24274a0",
   "metadata": {},
   "outputs": [],
   "source": [
    "#ships"
   ]
  },
  {
   "cell_type": "markdown",
   "id": "a39c704f",
   "metadata": {},
   "source": [
    "### 3.Get mmsi"
   ]
  },
  {
   "cell_type": "code",
   "execution_count": 83,
   "id": "28edeece",
   "metadata": {},
   "outputs": [],
   "source": [
    "def get_mmsi_from_web(imo):\n",
    "    \"\"\"Get mmsi number from https://www.shiplocation.com\n",
    "    using imo number.\"\"\"\n",
    "    # Get mmsi number from website\n",
    "    url = \"https://www.shiplocation.com/vessels?\"\n",
    "    payload = {\"page\": \"1\", \"vessel\": imo, \"sort\": \"none\",\n",
    "              \"direction\": \"none\", \"flag\": \"none\"}\n",
    "    headers = {\"User-Agent\": \"Mozilla/5.0\"}\n",
    "    r = requests.get(url, params=payload, headers=headers)\n",
    "    if r.status_code == 200:\n",
    "        idx_start = r.text.find(\"MMSI-\") + 5 # offset for MMSI-\n",
    "        idx_end = r.text.find('\"', idx_start)\n",
    "        mmsi = r.text[idx_start:idx_end]\n",
    "        if mmsi.isdigit() and len(mmsi) == 9:\n",
    "            return mmsi\n",
    "        else:\n",
    "            log(\"[Update ship location] [Get mmsi from web] \"\\\n",
    "                + f\"[mmsi for imo {imo} not found]\")\n",
    "    "
   ]
  },
  {
   "cell_type": "code",
   "execution_count": 90,
   "id": "87eb21d0",
   "metadata": {},
   "outputs": [],
   "source": [
    "def insert_ship_to_db(ship):\n",
    "    \"\"\"Insert ship record to db.\"\"\"\n",
    "    # Connect to database and update data\n",
    "    conn = MongoClient(access.update)\n",
    "    try:\n",
    "        conn.admin.command(\"ping\")\n",
    "        now = datetime.now().replace(microsecond=0)\n",
    "        ship_copy = ship.copy()\n",
    "        del ship_copy[\"cntrNo\"]\n",
    "        ship_copy[\"lastUpdate\"] = now\n",
    "        cur = conn.one.ships.insert_one(ship_copy)\n",
    "        conn.close()\n",
    "        if cur.acknowledged == False:\n",
    "            log(\"[Update ship location] [Insert ship to db] \"\\\n",
    "                + f\"[Imo {ship['imo']} not inserted]\")\n",
    "    except ConnectionFailure:\n",
    "        log(\"[Update ship location] [Insert ship to db] \"\\\n",
    "            + f\"[Connection failure for imo {ship['imo']}, mmsi {ship['mmsi']}]\")\n",
    "        conn.close()\n",
    "    except BaseException as err:\n",
    "        log(\"[Update ship location] [Insert ship to db] \"\\\n",
    "            + f\"[{err} for imo {ship['imo']}, mmsi {ship['mmsi']}]\")\n",
    "        conn.close()"
   ]
  },
  {
   "cell_type": "code",
   "execution_count": 85,
   "id": "da9944bb",
   "metadata": {},
   "outputs": [],
   "source": [
    "def get_mmsi(ships):\n",
    "    \"\"\"Get mmsi from db or web, add to 'ships' argument.\n",
    "    If mmsi not found in db, add it from web to db.\n",
    "    Return 'ships' agrument with mmsi.\"\"\"\n",
    "    # Check arguments\n",
    "    if not ships:\n",
    "        log(\"[Update ship location] [Get mmsi] \"\\\n",
    "            + \"[No input arguments]\")\n",
    "        return False\n",
    "    # Connect to database and get data\n",
    "    conn = MongoClient(access.update)\n",
    "    for ship in ships:\n",
    "        try:\n",
    "            # Get record from db or from web\n",
    "            conn.admin.command(\"ping\")\n",
    "            cur = conn.one.ships.find({\"imo\": ship[\"imo\"]})\n",
    "            now = datetime.now().replace(microsecond=0)\n",
    "            db_data = json.loads(dumps(cur))\n",
    "            if len(db_data) == 0:\n",
    "                mmsi = get_mmsi_from_web(ship[\"imo\"])\n",
    "                if mmsi:\n",
    "                    ship[\"mmsi\"] = mmsi\n",
    "                    insert_ship_to_db(ship)\n",
    "                else:\n",
    "                    log(\"[Update ship location] [Get mmsi] \"\\\n",
    "                        + f\"[MMSI for imo {ship['imo']} not found in web]\")\n",
    "            elif len(db_data) == 1:\n",
    "                ship[\"mmsi\"] = db_data[0][\"mmsi\"]\n",
    "        except ConnectionFailure:\n",
    "            log(\"[Update ship location] [Get mmsi] \"\\\n",
    "                + f\"[Connection failure for imo {ship['imo']}]\")\n",
    "            conn.close()\n",
    "        except BaseException as err:\n",
    "            log(\"[Update ship location] [Get mmsi] \"\\\n",
    "                + f\"[{err} for imo {ship['imo']}]\")\n",
    "            conn.close()\n",
    "    return ships"
   ]
  },
  {
   "cell_type": "code",
   "execution_count": 15,
   "id": "be29a3d0",
   "metadata": {},
   "outputs": [],
   "source": [
    "ships_with_mmsi = get_mmsi(ships)"
   ]
  },
  {
   "cell_type": "code",
   "execution_count": 307,
   "id": "11d03f47",
   "metadata": {},
   "outputs": [],
   "source": [
    "#ships_with_mmsi"
   ]
  },
  {
   "cell_type": "markdown",
   "id": "41f0a158",
   "metadata": {},
   "source": [
    "### 4.Get location"
   ]
  },
  {
   "cell_type": "code",
   "execution_count": 86,
   "id": "a9fc2ed5",
   "metadata": {},
   "outputs": [],
   "source": [
    "def parse_lat_lon(html):\n",
    "    \"\"\"Get latitude and longitute from\n",
    "    https://www.vesselfinder.com raw html.\"\"\"\n",
    "    soup = BeautifulSoup(html, \"html.parser\")\n",
    "    lat_lon = []\n",
    "    for i in [\"coordinate lat\", \"coordinate lon\"]:\n",
    "        obj = soup.find(\"div\", class_=i)\n",
    "        if obj:\n",
    "            text = obj.text\n",
    "            if text.replace(\".\", \"\").isdigit():\n",
    "                lat_lon.append(text)\n",
    "            else:\n",
    "                lat_lon.append(\"\")\n",
    "        else:\n",
    "            lat_lon.append(\"\")\n",
    "    return lat_lon"
   ]
  },
  {
   "cell_type": "code",
   "execution_count": 87,
   "id": "2bc6634a",
   "metadata": {},
   "outputs": [],
   "source": [
    "# https://www.vesselfinder.com/vessels/ONE-OLYMPUS-IMO-9312987-MMSI-563048400\n",
    "def get_ships_location(ships):\n",
    "    \"\"\"Get ships locations from web https://www.vesselfinder.com.\"\"\"\n",
    "    # Check arguments\n",
    "    if not ships:\n",
    "        log(\"[Update ship location] [Get ships location] \"\\\n",
    "            + \"[No input arguments]\")\n",
    "        return False\n",
    "    # Run get requests for locations\n",
    "    base_url = \"https://www.vesselfinder.com/vessels/{}-IMO-{}-MMSI-{}\"\n",
    "    headers = {\"User-Agent\": \"Mozilla/5.0\"}\n",
    "    for ship in ships:\n",
    "        url = base_url.format(ship[\"vesselName\"].replace(\" \", \"-\"),\n",
    "                              ship[\"imo\"], ship[\"mmsi\"])\n",
    "        r = requests.get(url, headers=headers)\n",
    "        if r.status_code == 200:\n",
    "            loc = parse_lat_lon(r.text)\n",
    "            ship[\"lat\"] = loc[0]\n",
    "            ship[\"lon\"] = loc[1]\n",
    "            if \"\" in loc:\n",
    "                log(\"[Update ship location] [Get ships location] \"\\\n",
    "                    + f\"[Parsing failed for imo {ship['imo']}]\")\n",
    "        else:\n",
    "            log(\"[Update ship location] [Get ships location] \"\\\n",
    "                + f\"[{r.status_code} for imo {ship['imo']}]\")\n",
    "            ship[\"lat\"] = \"\"\n",
    "            ship[\"lon\"] = \"\"\n",
    "    return ships"
   ]
  },
  {
   "cell_type": "code",
   "execution_count": 77,
   "id": "175dc039",
   "metadata": {},
   "outputs": [],
   "source": [
    "ships_with_location = get_ships_location(ships_with_mmsi)"
   ]
  },
  {
   "cell_type": "code",
   "execution_count": 79,
   "id": "327d5732",
   "metadata": {},
   "outputs": [],
   "source": [
    "#ships_with_location"
   ]
  },
  {
   "cell_type": "markdown",
   "id": "11116df2",
   "metadata": {},
   "source": [
    "### 5.Update tracking collection data"
   ]
  },
  {
   "cell_type": "code",
   "execution_count": 88,
   "id": "0938bee0",
   "metadata": {},
   "outputs": [],
   "source": [
    "def update(ships):\n",
    "    \"\"\"Update ships location in tracking collection.\"\"\"\n",
    "    # Connect to database and update\n",
    "    conn = MongoClient(access.update)\n",
    "    try:\n",
    "        conn.admin.command(\"ping\")\n",
    "        for ship in ships:\n",
    "            if \"\" in [ship[\"lat\"], ship[\"lon\"]]:\n",
    "                log(\"[Update ship location] [Update] \"\\\n",
    "                    + \"[No lat lon to update imo \"\\\n",
    "                    + f\"{ship['imo']}/cntr {ship['cntrNo']}]\")\n",
    "            else:\n",
    "                query = {\"cntrNo\": ship[\"cntrNo\"]}\n",
    "                change = {\"$set\": {\n",
    "                    \"lat\": ship[\"lat\"],\n",
    "                    \"lon\": ship[\"lon\"],\n",
    "                    \"vesselName\": ship[\"vesselName\"]\n",
    "                }}\n",
    "                cur = conn.one.tracking.update_one(query, change)\n",
    "                if cur.acknowledged == False:\n",
    "                    log(\"[Update ship location] [Update] \"\\\n",
    "                    + f\"[{ship['cntrNo']} location not updated]\")\n",
    "        conn.close()\n",
    "    except ConnectionFailure:\n",
    "        log(f\"[Update ship location] [Update] [Connection failure]\")\n",
    "        conn.close()\n",
    "    except BaseException as err:\n",
    "        log(f\"[ETL Update] [Update] [{err}]\")\n",
    "        conn.close()"
   ]
  },
  {
   "cell_type": "markdown",
   "id": "420be15b",
   "metadata": {},
   "source": [
    "### 6.Pipeline"
   ]
  },
  {
   "cell_type": "code",
   "execution_count": 89,
   "id": "6bcd1823",
   "metadata": {},
   "outputs": [],
   "source": [
    "ships = ships_to_update()\n",
    "ships_with_mmsi = get_mmsi(ships)\n",
    "ships_with_location = get_ships_location(ships_with_mmsi)\n",
    "update(ships_with_location)"
   ]
  },
  {
   "cell_type": "code",
   "execution_count": 95,
   "id": "0e247c1f",
   "metadata": {},
   "outputs": [
    {
     "name": "stdout",
     "output_type": "stream",
     "text": [
      "[{'_id': {'$oid': '618f777f01f34586f9101468'}, 'cntrNo': 'KKTU7824761', 'cntrType': \"20'DRY ST.\", 'copNo': 'COSA1915723436', 'blNo': 'OSAB55716300', 'trackStart': {'$date': 1636802991000}, 'trackEnd': None, 'outboundTerminal': 'NAGOYA, AICHI, JAPAN|TCB (TOBISHIMA CONTAINER BERTH)', 'inboundTerminal': 'ST PETERSBURG, RUSSIAN FEDERATION|CONTAINER TERMINAL SAINT PETERSBURG JSC', 'schedule': [{'no': 1, 'event': 'Empty Container Release to Shipper', 'placeName': 'NAGOYA, AICHI, JAPAN', 'yardName': 'NAGOYA - NISHI 4-KU RYUTSU VAN POOL', 'eventDate': {'$date': 1634554500000}, 'status': 'A', 'vesselName': '', 'imo': ''}, {'no': 2, 'event': 'Gate In to Outbound Terminal', 'placeName': 'NAGOYA, AICHI, JAPAN', 'yardName': 'TCB (TOBISHIMA CONTAINER BERTH)', 'eventDate': {'$date': 1634719680000}, 'status': 'A', 'vesselName': '', 'imo': ''}, {'no': 3, 'event': \"Loaded on 'ONE OLYMPUS 066W' at Port of Loading\", 'placeName': 'NAGOYA, AICHI, JAPAN', 'yardName': 'TCB (TOBISHIMA CONTAINER BERTH)', 'eventDate': {'$date': 1634985420000}, 'status': 'A', 'vesselName': 'ONE OLYMPUS', 'imo': '9312987'}, {'no': 4, 'event': \"'ONE OLYMPUS 066W' Departure from Port of Loading\", 'placeName': 'NAGOYA, AICHI, JAPAN', 'yardName': 'TCB (TOBISHIMA CONTAINER BERTH)', 'eventDate': {'$date': 1635048000000}, 'status': 'A', 'vesselName': 'ONE OLYMPUS', 'imo': '9312987'}, {'no': 5, 'event': \"'ONE OLYMPUS 066W' Arrival at Transhipment Port\", 'placeName': 'ROTTERDAM, NETHERLANDS', 'yardName': 'ECT DELTA TERMINAL', 'eventDate': {'$date': 1637692200000}, 'status': 'E', 'vesselName': 'ONE OLYMPUS', 'imo': '9312987'}, {'no': 6, 'event': \"'ONE OLYMPUS 066W' T/S Berthing Destination\", 'placeName': 'ROTTERDAM, NETHERLANDS', 'yardName': 'ECT DELTA TERMINAL', 'eventDate': {'$date': 1637699400000}, 'status': 'E', 'vesselName': 'ONE OLYMPUS', 'imo': '9312987'}, {'no': 7, 'event': \"Unloaded from 'ONE OLYMPUS 066W' at Transhipment Port\", 'placeName': 'ROTTERDAM, NETHERLANDS', 'yardName': 'ECT DELTA TERMINAL', 'eventDate': {'$date': 1637623800000}, 'status': 'E', 'vesselName': 'ONE OLYMPUS', 'imo': '9312987'}, {'no': 8, 'event': \"Loaded on 'LISBON EXPRESS 2147E' at Transhipment Port\", 'placeName': 'ROTTERDAM, NETHERLANDS', 'yardName': 'ECT DELTA TERMINAL', 'eventDate': {'$date': 1637962200000}, 'status': 'E', 'vesselName': 'LISBON EXPRESS', 'imo': '9108128'}, {'no': 9, 'event': 'Departure from Transhipment Port', 'placeName': 'ROTTERDAM, NETHERLANDS', 'yardName': 'ECT DELTA TERMINAL', 'eventDate': {'$date': 1637985600000}, 'status': 'E', 'vesselName': 'LISBON EXPRESS', 'imo': '9108128'}, {'no': 10, 'event': \"'LISBON EXPRESS 2147E' Arrival at Port of Discharging\", 'placeName': 'ST PETERSBURG, RUSSIAN FEDERATION', 'yardName': 'CONTAINER TERMINAL SAINT PETERSBURG JSC', 'eventDate': {'$date': 1638590400000}, 'status': 'E', 'vesselName': 'LISBON EXPRESS', 'imo': '9108128'}, {'no': 11, 'event': \"'LISBON EXPRESS 2147E' POD Berthing Destination\", 'placeName': 'ST PETERSBURG, RUSSIAN FEDERATION', 'yardName': 'CONTAINER TERMINAL SAINT PETERSBURG JSC', 'eventDate': {'$date': 1638601200000}, 'status': 'E', 'vesselName': 'LISBON EXPRESS', 'imo': '9108128'}, {'no': 12, 'event': \"Unloaded from 'LISBON EXPRESS 2147E' at Port of Discharging\", 'placeName': 'ST PETERSBURG, RUSSIAN FEDERATION', 'yardName': 'CONTAINER TERMINAL SAINT PETERSBURG JSC', 'eventDate': {'$date': 1638606600000}, 'status': 'E', 'vesselName': 'LISBON EXPRESS', 'imo': '9108128'}, {'no': 13, 'event': 'Gate Out from Inbound Terminal for Delivery to Consignee (or Port Shuttle)', 'placeName': 'ST PETERSBURG, RUSSIAN FEDERATION', 'yardName': 'CONTAINER TERMINAL SAINT PETERSBURG JSC', 'eventDate': {'$date': 1638622800000}, 'status': 'E', 'vesselName': '', 'imo': ''}, {'no': 14, 'event': 'Empty Container Returned from Customer', 'placeName': 'ST PETERSBURG, RUSSIAN FEDERATION', 'yardName': 'ZAO LOGISTICA-TERMINAL', 'eventDate': {'$date': 1638644400000}, 'status': 'E', 'vesselName': '', 'imo': ''}], 'lat': '34.11845', 'lon': '24.42477', 'vesselName': 'ONE OLYMPUS'}]\n"
     ]
    }
   ],
   "source": [
    "# check\n",
    "conn = MongoClient(access.update)\n",
    "cur = conn.one.tracking.find({\"cntrNo\": \"KKTU7824761\"})\n",
    "print(json.loads(dumps(cur, indent=4)))\n",
    "conn.close()"
   ]
  }
 ],
 "metadata": {
  "kernelspec": {
   "display_name": "Python 3",
   "language": "python",
   "name": "python3"
  },
  "language_info": {
   "codemirror_mode": {
    "name": "ipython",
    "version": 3
   },
   "file_extension": ".py",
   "mimetype": "text/x-python",
   "name": "python",
   "nbconvert_exporter": "python",
   "pygments_lexer": "ipython3",
   "version": "3.8.10"
  }
 },
 "nbformat": 4,
 "nbformat_minor": 5
}
