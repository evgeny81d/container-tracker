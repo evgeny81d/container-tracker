{
 "cells": [
  {
   "cell_type": "markdown",
   "id": "7bcea987",
   "metadata": {},
   "source": [
    "# Track end\n",
    "## Imports"
   ]
  },
  {
   "cell_type": "code",
   "execution_count": 1,
   "id": "718f1cbb",
   "metadata": {},
   "outputs": [],
   "source": [
    "import json\n",
    "from datetime import datetime\n",
    "from pymongo import MongoClient\n",
    "from pymongo.errors import ConnectionFailure\n",
    "from bson.json_util import dumps\n",
    "import access"
   ]
  },
  {
   "cell_type": "markdown",
   "id": "31e20824",
   "metadata": {},
   "source": [
    "## Functions\n",
    "### 1.Log function"
   ]
  },
  {
   "cell_type": "code",
   "execution_count": 52,
   "id": "b7fe5d7b",
   "metadata": {},
   "outputs": [],
   "source": [
    "def log(message):\n",
    "    \"\"\"Log function to log errors.\"\"\"\n",
    "    timestamp = datetime.strftime(datetime.now(), \"%Y-%m-%d %H:%M:%S\")\n",
    "    with open(\"etl.log\", \"a\") as f:\n",
    "        f.write(timestamp + \" \" + message + \"\\n\")"
   ]
  },
  {
   "cell_type": "markdown",
   "id": "9a6458b7",
   "metadata": {},
   "source": [
    "### 2.Get tracking records which need to be closed"
   ]
  },
  {
   "cell_type": "code",
   "execution_count": 74,
   "id": "5e99d171",
   "metadata": {},
   "outputs": [],
   "source": [
    "def containers_at_destination():\n",
    "    \"\"\"Find containers which reached point of destination.\"\"\"\n",
    "    # Prepare connection\n",
    "    conn = MongoClient(access.track_end)\n",
    "    # Query database: count all documents with status=A and\n",
    "    # compare with total number of documents.\n",
    "    try:\n",
    "        conn.admin.command(\"ping\")\n",
    "        cur = conn.one.tracking.aggregate([\n",
    "            {\"$match\": {\"trackEnd\": None}},\n",
    "            {\"$addFields\": {\n",
    "                \"onlyA\": {\n",
    "                    \"$filter\": {\n",
    "                        \"input\": \"$schedule\",\n",
    "                        \"as\": \"item\",\n",
    "                        \"cond\": {\"$eq\": [\"$$item.status\", \"A\"]}\n",
    "            }}}},\n",
    "            {\"$redact\": {\n",
    "                \"$cond\": {\n",
    "                    \"if\": {\"$ne\": [{\"$size\": \"$onlyA\"}, {\"$size\": \"$schedule\"}]},\n",
    "                    \"then\": \"$$PRUNE\",\n",
    "                    \"else\": \"$$KEEP\"\n",
    "                }}},\n",
    "            {\"$project\": {\"_id\": 0, \"cntrNo\": 1}}\n",
    "        ])\n",
    "        records = json.loads(dumps(cur))\n",
    "        conn.close()\n",
    "        if len(records) > 0:\n",
    "            return records\n",
    "        else:\n",
    "            return False\n",
    "    except ConnectionFailure:\n",
    "        log(\"[Tracking closer] [Records to close] \"\\\n",
    "            + f\"[DB Connection failure]\")\n",
    "        conn.close()\n",
    "        return False\n",
    "    except BaseException as err:\n",
    "        log(\"[Tracking closer] [Records to close] \"\\\n",
    "            + f\"[{err.details}]\")\n",
    "        conn.close()\n",
    "        return False"
   ]
  },
  {
   "cell_type": "code",
   "execution_count": 75,
   "id": "0fe1afaa",
   "metadata": {},
   "outputs": [
    {
     "data": {
      "text/plain": [
       "[{'cntrNo': 'TRIU6671415'},\n",
       " {'cntrNo': 'GCXU2265249'},\n",
       " {'cntrNo': 'MOAU6791611'}]"
      ]
     },
     "execution_count": 75,
     "metadata": {},
     "output_type": "execute_result"
    }
   ],
   "source": [
    "containers = containers_at_destination()\n",
    "containers"
   ]
  },
  {
   "cell_type": "markdown",
   "id": "056d5499",
   "metadata": {},
   "source": [
    "### 3.Close tracking records"
   ]
  },
  {
   "cell_type": "code",
   "execution_count": 5,
   "id": "5f372afd",
   "metadata": {},
   "outputs": [],
   "source": [
    "def set_track_end(data):\n",
    "    \"\"\"Set trackEnd field in database to current date and time.\"\"\"\n",
    "    if not data:\n",
    "        return False\n",
    "    # Prepare connection\n",
    "    conn = MongoClient(access.track_end)\n",
    "    # Close records\n",
    "    try:\n",
    "        conn.admin.command(\"ping\")\n",
    "        for item in data:\n",
    "            cur = conn.one.tracking.update_one(\n",
    "                {\"cntrNo\": rec[\"cntrNo\"]},\n",
    "                {\"$set\": {\"trackEnd\": datetime.now().replace(microsecond=0)}},\n",
    "            )\n",
    "            if cur.acknowledged == False:\n",
    "                log(\"[Tracking closer] [Close] \"\\\n",
    "                    + f\"[{rec['cntrNo']} not closed in tracking]\")\n",
    "        conn.close()\n",
    "    except ConnectionFailure:\n",
    "        log(\"[Tracking closer] [Records to close] \"\\\n",
    "            + f\"[DB Connection failure]\")\n",
    "        conn.close()\n",
    "        return False\n",
    "    except BaseException as err:\n",
    "        log(\"[Tracking closer] [Records to close] \"\\\n",
    "            + f\"[{err.details}]\")\n",
    "        conn.close()\n",
    "        return False"
   ]
  },
  {
   "cell_type": "code",
   "execution_count": 36,
   "id": "e8010811",
   "metadata": {},
   "outputs": [],
   "source": [
    "set_track_end(containers)"
   ]
  },
  {
   "cell_type": "markdown",
   "id": "5bcf6dda",
   "metadata": {},
   "source": [
    "## Pipeline code"
   ]
  },
  {
   "cell_type": "code",
   "execution_count": 38,
   "id": "b0ad9ca4",
   "metadata": {},
   "outputs": [
    {
     "data": {
      "text/plain": [
       "False"
      ]
     },
     "execution_count": 38,
     "metadata": {},
     "output_type": "execute_result"
    }
   ],
   "source": [
    "records = containers_at_destination()\n",
    "set_track_end(records)"
   ]
  },
  {
   "cell_type": "markdown",
   "id": "fa0ab1e2",
   "metadata": {},
   "source": [
    "## Debug"
   ]
  },
  {
   "cell_type": "code",
   "execution_count": 18,
   "id": "b6a4ac53",
   "metadata": {},
   "outputs": [],
   "source": [
    "# Revert test record back\n",
    "conn = MongoClient(access.track_end)\n",
    "cur = conn.one.tracking.update_one(\n",
    "    {\"cntrNo\": \"TRIU6671415\"},\n",
    "    {\"$set\": {\"trackEnd\": None}}\n",
    ")\n",
    "conn.close()"
   ]
  },
  {
   "cell_type": "code",
   "execution_count": 33,
   "id": "cbfff4bd",
   "metadata": {},
   "outputs": [
    {
     "data": {
      "text/plain": [
       "False"
      ]
     },
     "execution_count": 33,
     "metadata": {},
     "output_type": "execute_result"
    }
   ],
   "source": [
    "# Check that record was closed\n",
    "records_to_close()"
   ]
  },
  {
   "cell_type": "code",
   "execution_count": 72,
   "id": "7cca0740",
   "metadata": {},
   "outputs": [],
   "source": [
    "# Debug query template\n",
    "conn = MongoClient(access.track_end)\n",
    "cur = conn.one.tracking.aggregate([\n",
    "            {\"$match\": {\"trackEnd\": None}},\n",
    "            {\"$addFields\": {\n",
    "                \"onlyA\": {\n",
    "                    \"$filter\": {\n",
    "                        \"input\": \"$schedule\",\n",
    "                        \"as\": \"item\",\n",
    "                        \"cond\": {\"$eq\": [\"$$item.status\", \"A\"]}\n",
    "            }}}},\n",
    "            {\"$redact\": {\n",
    "                \"$cond\": {\n",
    "                    \"if\": {\"$ne\": [{\"$size\": \"$onlyA\"}, {\"$size\": \"$schedule\"}]},\n",
    "                    \"then\": \"$$PRUNE\",\n",
    "                    \"else\": \"$$KEEP\"\n",
    "                }}},\n",
    "            {\"$addFields\": {\"sizeA\": {\"$size\": \"$statusA\"}, \"size\": {\"$size\": \"$schedule\"}}},\n",
    "            {\"$project\": {\"_id\": 0, \"cntrNo\": 1, \"sizeA\": 1, \"size\": 1}}\n",
    "        ])\n",
    "records = json.loads(dumps(cur))\n",
    "conn.close()"
   ]
  },
  {
   "cell_type": "code",
   "execution_count": 73,
   "id": "31f9830a",
   "metadata": {},
   "outputs": [
    {
     "data": {
      "text/plain": [
       "[{'cntrNo': 'TRIU6671415', 'sizeA': 14, 'size': 14},\n",
       " {'cntrNo': 'GCXU2265249', 'sizeA': 14, 'size': 14},\n",
       " {'cntrNo': 'MOAU6791611', 'sizeA': 14, 'size': 14}]"
      ]
     },
     "execution_count": 73,
     "metadata": {},
     "output_type": "execute_result"
    }
   ],
   "source": [
    "records"
   ]
  }
 ],
 "metadata": {
  "kernelspec": {
   "display_name": "Python 3",
   "language": "python",
   "name": "python3"
  },
  "language_info": {
   "codemirror_mode": {
    "name": "ipython",
    "version": 3
   },
   "file_extension": ".py",
   "mimetype": "text/x-python",
   "name": "python",
   "nbconvert_exporter": "python",
   "pygments_lexer": "ipython3",
   "version": "3.8.10"
  }
 },
 "nbformat": 4,
 "nbformat_minor": 5
}
