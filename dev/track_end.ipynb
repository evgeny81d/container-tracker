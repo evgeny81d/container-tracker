{
 "cells": [
  {
   "cell_type": "markdown",
   "id": "beeda36d",
   "metadata": {},
   "source": [
    "# Tracking closer\n",
    "## Imports"
   ]
  },
  {
   "cell_type": "code",
   "execution_count": 1,
   "id": "bab2b353",
   "metadata": {},
   "outputs": [],
   "source": [
    "import json\n",
    "from datetime import datetime\n",
    "from pymongo import MongoClient\n",
    "from pymongo.errors import ConnectionFailure\n",
    "from bson.json_util import dumps\n",
    "import access"
   ]
  },
  {
   "cell_type": "markdown",
   "id": "a2af1e2e",
   "metadata": {},
   "source": [
    "## Functions\n",
    "### 1.Log function"
   ]
  },
  {
   "cell_type": "code",
   "execution_count": 2,
   "id": "84f5e76c",
   "metadata": {},
   "outputs": [],
   "source": [
    "def log(message):\n",
    "    \"\"\"Log function to log errors.\"\"\"\n",
    "    timestamp = datetime.strftime(datetime.now(), \"%Y-%m-%d %H:%M:%S\")\n",
    "    with open(\"etl.log\", \"a\") as f:\n",
    "        f.write(timestamp + \" \" + message + \"\\n\")"
   ]
  },
  {
   "cell_type": "markdown",
   "id": "93bf83c3",
   "metadata": {},
   "source": [
    "### 2.Get tracking records which need to be closed"
   ]
  },
  {
   "cell_type": "code",
   "execution_count": 1,
   "id": "c70be5e9",
   "metadata": {},
   "outputs": [],
   "source": [
    "def containers_at_destination():\n",
    "    \"\"\"Find containers which reached point of destination.\"\"\"\n",
    "    # Prepare connection\n",
    "    conn = MongoClient(access.track_end)\n",
    "    # Query database\n",
    "    try:\n",
    "        conn.admin.command(\"ping\")\n",
    "        cur = conn.one.tracking.aggregate([\n",
    "            {\"$match\": {\"trackEnd\": None}},\n",
    "            {\"$addFields\": {\"last\": {\"$last\": \"$schedule\"}}},\n",
    "            {\"$match\": {\"last.status\": \"A\" }},\n",
    "            {\"$project\": {\"cntrNo\": 1, \"_id\": 0}}\n",
    "        ])\n",
    "        records = json.loads(dumps(cur))\n",
    "        conn.close()\n",
    "        if len(records) > 0:\n",
    "            return records\n",
    "        else:\n",
    "            return False\n",
    "    except ConnectionFailure:\n",
    "        log(\"[Tracking closer] [Records to close] \"\\\n",
    "            + f\"[DB Connection failure]\")\n",
    "        conn.close()\n",
    "        return False\n",
    "    except BaseException as err:\n",
    "        log(\"[Tracking closer] [Records to close] \"\\\n",
    "            + f\"[{err.details}]\")\n",
    "        conn.close()\n",
    "        return False"
   ]
  },
  {
   "cell_type": "code",
   "execution_count": 4,
   "id": "1b3b5dbd",
   "metadata": {},
   "outputs": [
    {
     "data": {
      "text/plain": [
       "[{'cntrNo': 'TRIU6671415'}]"
      ]
     },
     "execution_count": 4,
     "metadata": {},
     "output_type": "execute_result"
    }
   ],
   "source": [
    "containers = containers_at_destination()\n",
    "containers"
   ]
  },
  {
   "cell_type": "markdown",
   "id": "6f304ae4",
   "metadata": {},
   "source": [
    "### 3.Close tracking records"
   ]
  },
  {
   "cell_type": "code",
   "execution_count": 5,
   "id": "0e83536b",
   "metadata": {},
   "outputs": [],
   "source": [
    "def set_track_end(data):\n",
    "    \"\"\"Set trackEnd field in database to current date and time.\"\"\"\n",
    "    if not data:\n",
    "        return False\n",
    "    # Prepare connection\n",
    "    conn = MongoClient(access.track_end)\n",
    "    # Close records\n",
    "    try:\n",
    "        conn.admin.command(\"ping\")\n",
    "        for item in data:\n",
    "            cur = conn.one.tracking.update_one(\n",
    "                {\"cntrNo\": rec[\"cntrNo\"]},\n",
    "                {\"$set\": {\"trackEnd\": datetime.now().replace(microsecond=0)}},\n",
    "            )\n",
    "            if cur.acknowledged == False:\n",
    "                log(\"[Tracking closer] [Close] \"\\\n",
    "                    + f\"[{rec['cntrNo']} not closed in tracking]\")\n",
    "        conn.close()\n",
    "    except ConnectionFailure:\n",
    "        log(\"[Tracking closer] [Records to close] \"\\\n",
    "            + f\"[DB Connection failure]\")\n",
    "        conn.close()\n",
    "        return False\n",
    "    except BaseException as err:\n",
    "        log(\"[Tracking closer] [Records to close] \"\\\n",
    "            + f\"[{err.details}]\")\n",
    "        conn.close()\n",
    "        return False"
   ]
  },
  {
   "cell_type": "code",
   "execution_count": 36,
   "id": "f0cf25b3",
   "metadata": {},
   "outputs": [],
   "source": [
    "set_track_end(containers)"
   ]
  },
  {
   "cell_type": "markdown",
   "id": "01a4f3a1",
   "metadata": {},
   "source": [
    "## Pipeline code"
   ]
  },
  {
   "cell_type": "code",
   "execution_count": 38,
   "id": "a633da00",
   "metadata": {},
   "outputs": [
    {
     "data": {
      "text/plain": [
       "False"
      ]
     },
     "execution_count": 38,
     "metadata": {},
     "output_type": "execute_result"
    }
   ],
   "source": [
    "records = containers_at_destination()\n",
    "set_track_end(records)"
   ]
  },
  {
   "cell_type": "markdown",
   "id": "0bf4a9a4",
   "metadata": {},
   "source": [
    "## Debug"
   ]
  },
  {
   "cell_type": "code",
   "execution_count": 18,
   "id": "2a963707",
   "metadata": {},
   "outputs": [],
   "source": [
    "# Revert test record back\n",
    "conn = MongoClient(access.track_end)\n",
    "cur = conn.one.tracking.update_one(\n",
    "    {\"cntrNo\": \"TRIU6671415\"},\n",
    "    {\"$set\": {\"trackEnd\": None}}\n",
    ")\n",
    "conn.close()"
   ]
  },
  {
   "cell_type": "code",
   "execution_count": 33,
   "id": "b38b03ab",
   "metadata": {},
   "outputs": [
    {
     "data": {
      "text/plain": [
       "False"
      ]
     },
     "execution_count": 33,
     "metadata": {},
     "output_type": "execute_result"
    }
   ],
   "source": [
    "# Check that record was closed\n",
    "records_to_close()"
   ]
  }
 ],
 "metadata": {
  "kernelspec": {
   "display_name": "Python 3",
   "language": "python",
   "name": "python3"
  },
  "language_info": {
   "codemirror_mode": {
    "name": "ipython",
    "version": 3
   },
   "file_extension": ".py",
   "mimetype": "text/x-python",
   "name": "python",
   "nbconvert_exporter": "python",
   "pygments_lexer": "ipython3",
   "version": "3.8.10"
  }
 },
 "nbformat": 4,
 "nbformat_minor": 5
}
