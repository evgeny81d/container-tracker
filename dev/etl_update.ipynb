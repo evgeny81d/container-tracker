{
 "cells": [
  {
   "cell_type": "markdown",
   "id": "701c99a0",
   "metadata": {},
   "source": [
    "# ETL update\n",
    "## Imports"
   ]
  },
  {
   "cell_type": "code",
   "execution_count": 72,
   "id": "83ec3500",
   "metadata": {},
   "outputs": [],
   "source": [
    "import requests\n",
    "import json\n",
    "from datetime import datetime\n",
    "from pymongo import MongoClient\n",
    "from pymongo.errors import ConnectionFailure\n",
    "from bson.json_util import dumps\n",
    "import access\n",
    "\n",
    "# External data resource\n",
    "cntr_number = 'NYKU9733409'\n",
    "URL = \"https://ecomm.one-line.com/ecom/CUP_HOM_3301GS.do\""
   ]
  },
  {
   "cell_type": "markdown",
   "id": "88669144",
   "metadata": {},
   "source": [
    "## Functions\n",
    "### 1.Log function"
   ]
  },
  {
   "cell_type": "code",
   "execution_count": 73,
   "id": "0be1670c",
   "metadata": {},
   "outputs": [],
   "source": [
    "def log(message):\n",
    "    \"\"\"Log function to log errors.\"\"\"\n",
    "    timestamp = datetime.strftime(datetime.now(), \"%Y-%m-%d %H:%M:%S\")\n",
    "    with open(\"etl.log\", \"a\") as f:\n",
    "        f.write(timestamp + \" \" + message + \"\\n\")"
   ]
  },
  {
   "cell_type": "markdown",
   "id": "140d3c83",
   "metadata": {},
   "source": [
    "### 2.Get records which require update"
   ]
  },
  {
   "cell_type": "code",
   "execution_count": 80,
   "id": "c39da440",
   "metadata": {},
   "outputs": [],
   "source": [
    "def records_to_update():\n",
    "    \"\"\"Prepare records which require update.\"\"\"\n",
    "    # Prepare connection, query and project fields\n",
    "    conn = MongoClient(access.update)\n",
    "    now = datetime.now().replace(microsecond=0)\n",
    "    query = {\n",
    "        \"trackEnd\": None,\n",
    "        \"schedule\": {\"$elemMatch\": {\"status\": \"E\", \"eventDate\": {\"$lte\": now}}}\n",
    "    }\n",
    "    project = {\"cntrNo\": 1, \"copNo\": 1, \"_id\": 0}\n",
    "    # Query database\n",
    "    try:\n",
    "        conn.admin.command(\"ping\")\n",
    "        cur = conn.one.tracking.find(query, project)\n",
    "        records = json.loads(dumps(cur))\n",
    "        conn.close()\n",
    "        if len(records) > 0:\n",
    "            return records\n",
    "        else:\n",
    "            return False\n",
    "    except ConnectionFailure:\n",
    "        log(\"[ETL Update] [Records to update] \"\\\n",
    "            + f\"[DB Connection failure]\")\n",
    "        conn.close()\n",
    "        return False\n",
    "    except BaseException as err:\n",
    "        log(\"[ETL Update] [Records to update] \"\\\n",
    "            + f\"[{err.details}]\")\n",
    "        conn.close()\n",
    "        return False"
   ]
  },
  {
   "cell_type": "code",
   "execution_count": 35,
   "id": "8d18ff18",
   "metadata": {},
   "outputs": [
    {
     "data": {
      "text/plain": [
       "[{'_id': {'$oid': '6188005db133cc5cb7b93560'},\n",
       "  'cntrNo': 'NYKU9733409',\n",
       "  'copNo': 'COSA1827848695'}]"
      ]
     },
     "execution_count": 35,
     "metadata": {},
     "output_type": "execute_result"
    }
   ],
   "source": [
    "records = records_to_update()\n",
    "records"
   ]
  },
  {
   "cell_type": "markdown",
   "id": "f2c52708",
   "metadata": {},
   "source": [
    "### 3.Extract"
   ]
  },
  {
   "cell_type": "code",
   "execution_count": 75,
   "id": "3b644cb9",
   "metadata": {},
   "outputs": [],
   "source": [
    "def extract_schedule_details(records):\n",
    "    \"\"\"Extract schedule details for update.\"\"\"\n",
    "    # Check input\n",
    "    if not records:\n",
    "        return False\n",
    "    # Extract data\n",
    "    for rec in records:\n",
    "        # Create payload for get request\n",
    "        payload = {\n",
    "            '_search': 'false', 'f_cmd': '125', 'cntr_no': rec[\"cntrNo\"],\n",
    "            'bkg_no': '', 'cop_no': rec[\"copNo\"]\n",
    "        }\n",
    "        # Run request and fetch json data\n",
    "        r = requests.get(URL, params=payload)\n",
    "        data = r.json()\n",
    "        # Extract container schedule data and clean\n",
    "        if \"list\" in data:\n",
    "            schedule_details = data[\"list\"]\n",
    "            if \"hashColumns\" in schedule_details[0]:\n",
    "                del schedule_details[0][\"hashColumns\"]\n",
    "            rec[\"schedule\"] = schedule_details\n",
    "        else:\n",
    "            log(\"[ETL Update] [Extract schedule details]\"\\\n",
    "                + f\" [No schedule for container {rec['cntrNo']}]\")\n",
    "            rec[\"schedule\"] = None\n",
    "    return records "
   ]
  },
  {
   "cell_type": "code",
   "execution_count": 53,
   "id": "dd9d7c7b",
   "metadata": {},
   "outputs": [],
   "source": [
    "raw_records = extract_schedule_details(records)\n",
    "#raw_data"
   ]
  },
  {
   "cell_type": "markdown",
   "id": "a1270e19",
   "metadata": {},
   "source": [
    "### 4.Transform"
   ]
  },
  {
   "cell_type": "code",
   "execution_count": 76,
   "id": "ec92c9a4",
   "metadata": {},
   "outputs": [],
   "source": [
    "def transform(records):\n",
    "    \"\"\"Transforms raw data for database load.\"\"\"\n",
    "    # Check input\n",
    "    if not records:\n",
    "        return False\n",
    "    # Check schedule keys and extract schedule data\n",
    "    schedule_keys = [\"no\", \"statusNm\", \"placeNm\", \"yardNm\",\n",
    "                     \"eventDt\", \"actTpCd\", \"actTpCd\", \"vslEngNm\",\n",
    "                     \"lloydNo\"]\n",
    "    for rec in records:\n",
    "        if set(schedule_keys).issubset(set(rec[\"schedule\"][0])):\n",
    "            schedule = [{\n",
    "                \"no\": int(i[\"no\"]),\n",
    "                \"event\": i[\"statusNm\"],\n",
    "                \"placeName\": i[\"placeNm\"],\n",
    "                \"yardName\": i[\"yardNm\"],\n",
    "                \"eventDate\": datetime.strptime(i[\"eventDt\"], \"%Y-%m-%d %H:%M\"),\n",
    "                \"status\": i[\"actTpCd\"],\n",
    "                \"vesselName\": i[\"vslEngNm\"],\n",
    "                \"imo\": i[\"lloydNo\"],\n",
    "            } for i in rec[\"schedule\"]]\n",
    "            rec[\"schedule\"] = schedule\n",
    "        else:\n",
    "            log(\"[ETL Update] [Transform] \"\\\n",
    "                + f\"[Keys do not match in schedule data {rec['cntrNo']}]\")\n",
    "            rec[\"schedule\"] = None\n",
    "    return records"
   ]
  },
  {
   "cell_type": "code",
   "execution_count": 56,
   "id": "e5e96981",
   "metadata": {},
   "outputs": [],
   "source": [
    "transformed_records = transform(raw_records)\n",
    "#transformed_records"
   ]
  },
  {
   "cell_type": "markdown",
   "id": "e813734d",
   "metadata": {},
   "source": [
    "### 5.Update"
   ]
  },
  {
   "cell_type": "code",
   "execution_count": 1,
   "id": "f4f227bc",
   "metadata": {},
   "outputs": [],
   "source": [
    "def update(records):\n",
    "    \"\"\"Update records in database.\"\"\"\n",
    "    # Check input\n",
    "    if not records:\n",
    "        return False\n",
    "    # Connect to database and update\n",
    "    conn = MongoClient(access.update)\n",
    "    try:\n",
    "        conn.admin.command(\"ping\")\n",
    "        for rec in records:\n",
    "            if rec[\"schedule\"]:\n",
    "                query = {\"cntrNo\": rec[\"cntrNo\"]}\n",
    "                change = {\"$set\": {\"schedule\": rec[\"schedule\"]}}\n",
    "                cur_tracking = conn.one.tracking.update_one(query, change)\n",
    "                if cur_tracking.acknowledged == False:\n",
    "                    log(\"[ETL Update] [Update] \"\\\n",
    "                    + f\"[{rec['cntrNo']} not updated in tracking]\")\n",
    "            else:\n",
    "                log(\"[ETL Update] [Update] \"\\\n",
    "                + f\"[Not updated {rec['cntrNo']}]\")\n",
    "        conn.close()\n",
    "    except ConnectionFailure:\n",
    "        log(f\"[ETL Update] [Update] [Connection failure]\")\n",
    "        conn.close()\n",
    "    except BaseException as err:\n",
    "        log(f\"[ETL Update] [Update] [{err}]\")\n",
    "        conn.close()"
   ]
  },
  {
   "cell_type": "code",
   "execution_count": 71,
   "id": "d330efc7",
   "metadata": {
    "scrolled": true
   },
   "outputs": [],
   "source": [
    "update(transformed_records)"
   ]
  },
  {
   "cell_type": "markdown",
   "id": "48ba951c",
   "metadata": {},
   "source": [
    "### 6. Get tracking records which need to be closed"
   ]
  },
  {
   "cell_type": "code",
   "execution_count": null,
   "id": "144e339c",
   "metadata": {},
   "outputs": [],
   "source": [
    "def containers_at_destination():\n",
    "    \"\"\"Find containers which reached point of destination.\"\"\"\n",
    "    # Prepare connection\n",
    "    conn = MongoClient(access.track_end)\n",
    "    # Query database\n",
    "    try:\n",
    "        conn.admin.command(\"ping\")\n",
    "        cur = conn.one.tracking.aggregate([\n",
    "            {\"$match\": {\"trackEnd\": None}},\n",
    "            {\"$addFields\": {\"last\": {\"$last\": \"$schedule\"}}},\n",
    "            {\"$match\": {\"last.status\": \"A\" }},\n",
    "            {\"$project\": {\"cntrNo\": 1, \"_id\": 0}}\n",
    "        ])\n",
    "        records = json.loads(dumps(cur))\n",
    "        conn.close()\n",
    "        if len(records) > 0:\n",
    "            return records\n",
    "        else:\n",
    "            return False\n",
    "    except ConnectionFailure:\n",
    "        log(\"[ETL Update] [containers_at_destination()] \"\\\n",
    "            + f\"[DB Connection failure]\")\n",
    "        conn.close()\n",
    "        return False\n",
    "    except BaseException as err:\n",
    "        log(\"[ETL Update] [containers_at_destination()] \"\\\n",
    "            + f\"[{err.details}]\")\n",
    "        conn.close()\n",
    "        return False"
   ]
  },
  {
   "cell_type": "code",
   "execution_count": null,
   "id": "558e0ae5",
   "metadata": {},
   "outputs": [],
   "source": [
    "containers = containers_at_destination()\n",
    "containers"
   ]
  },
  {
   "cell_type": "markdown",
   "id": "7c6ced2e",
   "metadata": {},
   "source": [
    "### 7. Close tracking records"
   ]
  },
  {
   "cell_type": "code",
   "execution_count": null,
   "id": "fb2c996f",
   "metadata": {},
   "outputs": [],
   "source": [
    "def set_track_end(data):\n",
    "    \"\"\"Set trackEnd field in database to current date and time.\"\"\"\n",
    "    if not data:\n",
    "        return False\n",
    "    # Prepare connection\n",
    "    conn = MongoClient(access.track_end)\n",
    "    # Close records\n",
    "    try:\n",
    "        conn.admin.command(\"ping\")\n",
    "        for item in data:\n",
    "            cur = conn.one.tracking.update_one(\n",
    "                {\"cntrNo\": rec[\"cntrNo\"]},\n",
    "                {\"$set\": {\"trackEnd\": datetime.now().replace(microsecond=0)}},\n",
    "            )\n",
    "            if cur.acknowledged == False:\n",
    "                log(\"[ETL Update] [set_track_end()] \"\\\n",
    "                    + f\"[{rec['cntrNo']} not closed in tracking]\")\n",
    "        conn.close()\n",
    "    except ConnectionFailure:\n",
    "        log(\"[ETL Update] [set_track_end()] \"\\\n",
    "            + f\"[DB Connection failure]\")\n",
    "        conn.close()\n",
    "        return False\n",
    "    except BaseException as err:\n",
    "        log(\"[ETL Update] [set_track_end()] \"\\\n",
    "            + f\"[{err.details}]\")\n",
    "        conn.close()\n",
    "        return False"
   ]
  },
  {
   "cell_type": "code",
   "execution_count": null,
   "id": "4d0117a0",
   "metadata": {},
   "outputs": [],
   "source": [
    "set_track_end(containers)"
   ]
  },
  {
   "cell_type": "markdown",
   "id": "88c7c297",
   "metadata": {},
   "source": [
    "## Pipeline code"
   ]
  },
  {
   "cell_type": "code",
   "execution_count": 79,
   "id": "d46a71ed",
   "metadata": {},
   "outputs": [],
   "source": [
    "records = records_to_update()\n",
    "raw_records = extract_schedule_details(records)\n",
    "transformed_records = transform(raw_records)\n",
    "update(transformed_records)\n",
    "records = containers_at_destination()\n",
    "set_track_end(records)"
   ]
  }
 ],
 "metadata": {
  "kernelspec": {
   "display_name": "Python 3",
   "language": "python",
   "name": "python3"
  },
  "language_info": {
   "codemirror_mode": {
    "name": "ipython",
    "version": 3
   },
   "file_extension": ".py",
   "mimetype": "text/x-python",
   "name": "python",
   "nbconvert_exporter": "python",
   "pygments_lexer": "ipython3",
   "version": "3.8.10"
  }
 },
 "nbformat": 4,
 "nbformat_minor": 5
}
